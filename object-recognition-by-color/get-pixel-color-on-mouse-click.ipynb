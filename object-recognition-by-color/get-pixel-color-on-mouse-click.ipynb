{
 "cells": [
  {
   "cell_type": "code",
   "execution_count": 1,
   "metadata": {},
   "outputs": [],
   "source": [
    "import cv2\n",
    "import numpy as np"
   ]
  },
  {
   "cell_type": "code",
   "execution_count": 2,
   "metadata": {},
   "outputs": [],
   "source": [
    "img = cv2.imread('dota-2-marci-abilities.jpg')\n",
    "b = g = r = int(0)\n",
    "clicked = False"
   ]
  },
  {
   "cell_type": "code",
   "execution_count": 3,
   "metadata": {},
   "outputs": [],
   "source": [
    "def get_color(event, x, y, flags, param):\n",
    "    if event == cv2.EVENT_LBUTTONUP:\n",
    "        global b, g, r, clicked\n",
    "        b, g, r = img[y, x]\n",
    "        b = int(b)\n",
    "        g = int(g)\n",
    "        r = int(r)\n",
    "        clicked = True"
   ]
  },
  {
   "cell_type": "code",
   "execution_count": 4,
   "metadata": {},
   "outputs": [],
   "source": [
    "cv2.namedWindow('main')\n",
    "cv2.setMouseCallback('main', get_color)\n",
    "\n",
    "while True:\n",
    "    cv2.imshow('main', img)\n",
    "    if clicked:\n",
    "        # устанавливаем интервал для каждого цвета \n",
    "        bgr_min = (b - 20, g - 20, r - 20)\n",
    "        bgr_max = (b + 20, g + 20, r + 20)\n",
    "        #print(b, g, r)\n",
    "        #print(bgr_min, bgr_max)\n",
    "        thresh = cv2.inRange(img, bgr_min, bgr_max)\n",
    "\n",
    "        # ищем контуры и складируем их в переменную contours\n",
    "        # hierarchy хранит информацию об иерархии\n",
    "        contours, hierarchy = cv2.findContours(thresh.copy(), cv2.RETR_TREE, cv2.CHAIN_APPROX_SIMPLE)\n",
    "\n",
    "        # отображаем контуры поверх изображения\n",
    "        cv2.drawContours(img, contours, -1, (0, 0, 0), 2, cv2.LINE_AA, hierarchy, 2)\n",
    "        clicked = False\n",
    "\n",
    "    if cv2.waitKey(20) & 0xff == ord('b'):\n",
    "        break"
   ]
  },
  {
   "cell_type": "code",
   "execution_count": null,
   "metadata": {},
   "outputs": [],
   "source": []
  }
 ],
 "metadata": {
  "kernelspec": {
   "display_name": "Python 3",
   "language": "python",
   "name": "python3"
  },
  "language_info": {
   "codemirror_mode": {
    "name": "ipython",
    "version": 3
   },
   "file_extension": ".py",
   "mimetype": "text/x-python",
   "name": "python",
   "nbconvert_exporter": "python",
   "pygments_lexer": "ipython3",
   "version": "3.8.3"
  }
 },
 "nbformat": 4,
 "nbformat_minor": 4
}
