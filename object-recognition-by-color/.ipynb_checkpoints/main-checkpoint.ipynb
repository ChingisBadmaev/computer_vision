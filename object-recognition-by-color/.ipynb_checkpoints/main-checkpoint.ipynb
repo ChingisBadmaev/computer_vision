{
 "cells": [
  {
   "cell_type": "code",
   "execution_count": 219,
   "metadata": {},
   "outputs": [],
   "source": [
    "import cv2\n",
    "import numpy as np"
   ]
  },
  {
   "cell_type": "markdown",
   "metadata": {},
   "source": [
    "### Тестовые данные\n",
    "only_red.png  \n",
    "only_green.png  \n",
    "only_blue.png   \n",
    "\n",
    "figures_example_1.png  \n",
    "figures_example_2.png  "
   ]
  },
  {
   "cell_type": "markdown",
   "metadata": {},
   "source": [
    "#### bgr to hsv"
   ]
  },
  {
   "cell_type": "code",
   "execution_count": 220,
   "metadata": {},
   "outputs": [
    {
     "name": "stdout",
     "output_type": "stream",
     "text": [
      "[[[  0 255 255]]]\n",
      "(-10, 100, 100)\n",
      "(10, 255, 255)\n"
     ]
    }
   ],
   "source": [
    "color = np.uint8([[[0, 0, 255]]])\n",
    "hsv_color = cv2.cvtColor(color, cv2.COLOR_BGR2HSV)\n",
    "print(hsv_color)\n",
    "\n",
    "lowerLimit = hsv_color[0][0][0] - 10, 100, 100\n",
    "upperLimit = hsv_color[0][0][0] + 10, 255, 255\n",
    "\n",
    "print(lowerLimit)\n",
    "print(upperLimit)"
   ]
  },
  {
   "cell_type": "markdown",
   "metadata": {},
   "source": [
    "## Работа с BGR"
   ]
  },
  {
   "cell_type": "code",
   "execution_count": 268,
   "metadata": {},
   "outputs": [],
   "source": [
    "# blue\n",
    "low_blue = (0, 0, 0)\n",
    "high_blue = (255, 110, 110)\n",
    "\n",
    "# green\n",
    "low_green = (0, 0, 0)\n",
    "high_green = (110, 255, 110)\n",
    "\n",
    "# red\n",
    "low_red = (0, 0, 0) \n",
    "high_red = (110, 110, 255)"
   ]
  },
  {
   "cell_type": "code",
   "execution_count": 269,
   "metadata": {},
   "outputs": [],
   "source": [
    "def choose_color_bgr(color):\n",
    "    if color == 'blue':\n",
    "        return low_blue, high_blue\n",
    "\n",
    "    if color == 'red':\n",
    "        return low_red, high_red\n",
    "\n",
    "    if color == 'green':\n",
    "        return low_green, high_green"
   ]
  },
  {
   "cell_type": "markdown",
   "metadata": {},
   "source": [
    "### Выдеелние белым цветом\n",
    "\n"
   ]
  },
  {
   "cell_type": "code",
   "execution_count": 270,
   "metadata": {},
   "outputs": [
    {
     "name": "stdout",
     "output_type": "stream",
     "text": [
      "enter color name: red\n",
      "\n",
      "enter img name: \n",
      "only_red.png\n"
     ]
    },
    {
     "data": {
      "text/plain": [
       "-1"
      ]
     },
     "execution_count": 270,
     "metadata": {},
     "output_type": "execute_result"
    }
   ],
   "source": [
    "print('enter color name:', end=' ')\n",
    "color = input()\n",
    "\n",
    "print()\n",
    "\n",
    "print('enter img name: ')\n",
    "image_name = input()\n",
    "\n",
    "low, high = choose_color_bgr(color)\n",
    "\n",
    "img = cv2.imread(image_name)\n",
    "\n",
    "figures = cv2.inRange(img, low, high)\n",
    "\n",
    "cv2.imshow('figures', figures)\n",
    "\n",
    "cv2.waitKey(0)"
   ]
  },
  {
   "cell_type": "markdown",
   "metadata": {},
   "source": [
    "### Выделение контуром"
   ]
  },
  {
   "cell_type": "code",
   "execution_count": 274,
   "metadata": {},
   "outputs": [
    {
     "name": "stdout",
     "output_type": "stream",
     "text": [
      "enter color name: red\n",
      "\n",
      "enter img name: \n",
      "only_red.png\n"
     ]
    },
    {
     "data": {
      "text/plain": [
       "True"
      ]
     },
     "execution_count": 274,
     "metadata": {},
     "output_type": "execute_result"
    }
   ],
   "source": [
    "print('enter color name:', end=' ')\n",
    "color = input()\n",
    "\n",
    "print()\n",
    "\n",
    "print('enter img name: ')\n",
    "image_name = input()\n",
    "\n",
    "\n",
    "bgr_min, bgr_max = choose_color_bgr(color)\n",
    "\n",
    "img = cv2.imread(image_name)\n",
    "\n",
    "thresh = cv2.inRange(img, bgr_min, bgr_max)\n",
    "\n",
    "# ищем контуры и складируем их в переменную contours\n",
    "# hierarchy хранит информацию об иерархии\n",
    "contours, hierarchy = cv2.findContours(thresh.copy(), cv2.RETR_TREE, cv2.CHAIN_APPROX_SIMPLE)\n",
    "\n",
    "# отображаем контуры поверх изображения\n",
    "result = cv2.drawContours(img, contours, -1, (0, 0, 0), 2, cv2.LINE_AA, hierarchy, 2)\n",
    "cv2.imshow('contours', img)\n",
    "\n",
    "cv2.waitKey()\n",
    "\n",
    "\n",
    "cv2.imwrite(\"./cat2.png\", thresh, [int(cv2.IMWRITE_PNG_COMPRESSION), 9])"
   ]
  },
  {
   "cell_type": "markdown",
   "metadata": {},
   "source": [
    "## Работа с HSV"
   ]
  },
  {
   "cell_type": "code",
   "execution_count": 265,
   "metadata": {},
   "outputs": [],
   "source": [
    "# blue\n",
    "low_blue = (110, 100, 100)\n",
    "high_blue = (130, 255, 255)\n",
    "\n",
    "# green\n",
    "low_green = (50, 100, 100)\n",
    "high_green = (70, 255, 255)\n",
    "\n",
    "# red\n",
    "low_red = (-10, 100, 100)\n",
    "high_red = (10, 255, 255)"
   ]
  },
  {
   "cell_type": "code",
   "execution_count": 261,
   "metadata": {},
   "outputs": [],
   "source": [
    "def choose_color_hsv(color):\n",
    "    if color == 'blue':\n",
    "        return low_blue, high_blue\n",
    "\n",
    "    if color == 'red':\n",
    "        return low_red, high_red\n",
    "\n",
    "    if color == 'green':\n",
    "        return low_green, high_green"
   ]
  },
  {
   "cell_type": "markdown",
   "metadata": {},
   "source": [
    "###  Выделение белым цветом"
   ]
  },
  {
   "cell_type": "code",
   "execution_count": 262,
   "metadata": {},
   "outputs": [
    {
     "name": "stdout",
     "output_type": "stream",
     "text": [
      "enter color name: \n",
      "\n",
      "enter img name: \n",
      "x\n"
     ]
    },
    {
     "ename": "TypeError",
     "evalue": "cannot unpack non-iterable NoneType object",
     "output_type": "error",
     "traceback": [
      "\u001b[1;31m---------------------------------------------------------------------------\u001b[0m",
      "\u001b[1;31mTypeError\u001b[0m                                 Traceback (most recent call last)",
      "\u001b[1;32m<ipython-input-262-75b601df74d7>\u001b[0m in \u001b[0;36m<module>\u001b[1;34m\u001b[0m\n\u001b[0;32m      7\u001b[0m \u001b[0mimage_name\u001b[0m \u001b[1;33m=\u001b[0m \u001b[0minput\u001b[0m\u001b[1;33m(\u001b[0m\u001b[1;33m)\u001b[0m\u001b[1;33m\u001b[0m\u001b[1;33m\u001b[0m\u001b[0m\n\u001b[0;32m      8\u001b[0m \u001b[1;33m\u001b[0m\u001b[0m\n\u001b[1;32m----> 9\u001b[1;33m \u001b[0mlow\u001b[0m\u001b[1;33m,\u001b[0m \u001b[0mhigh\u001b[0m \u001b[1;33m=\u001b[0m \u001b[0mchoose_color_hsv\u001b[0m\u001b[1;33m(\u001b[0m\u001b[0mcolor\u001b[0m\u001b[1;33m)\u001b[0m\u001b[1;33m\u001b[0m\u001b[1;33m\u001b[0m\u001b[0m\n\u001b[0m\u001b[0;32m     10\u001b[0m \u001b[1;33m\u001b[0m\u001b[0m\n\u001b[0;32m     11\u001b[0m \u001b[0mimg\u001b[0m \u001b[1;33m=\u001b[0m \u001b[0mcv2\u001b[0m\u001b[1;33m.\u001b[0m\u001b[0mimread\u001b[0m\u001b[1;33m(\u001b[0m\u001b[0mimage_name\u001b[0m\u001b[1;33m)\u001b[0m\u001b[1;33m\u001b[0m\u001b[1;33m\u001b[0m\u001b[0m\n",
      "\u001b[1;31mTypeError\u001b[0m: cannot unpack non-iterable NoneType object"
     ]
    }
   ],
   "source": [
    "print('enter color name:', end=' ')\n",
    "color = input()\n",
    "\n",
    "print()\n",
    "\n",
    "print('enter img name: ')\n",
    "image_name = input()\n",
    "\n",
    "low, high = choose_color_hsv(color)\n",
    "\n",
    "img = cv2.imread(image_name)\n",
    "\n",
    "# Преобразуем в HSV\n",
    "figures_hsv = cv2.cvtColor(img, cv2.COLOR_BGR2HSV) \n",
    "\n",
    "figures_color_low, figures_color_high = choose_color_hsv(color)\n",
    "\n",
    "figures = cv2.inRange(figures_hsv, figures_color_low, figures_color_high)\n",
    "cv2.imshow('figures', figures)\n",
    "cv2.waitKey(0)"
   ]
  },
  {
   "cell_type": "code",
   "execution_count": 263,
   "metadata": {},
   "outputs": [
    {
     "name": "stdout",
     "output_type": "stream",
     "text": [
      "enter color name: \n",
      "\n",
      "enter img name: \n",
      "s\n"
     ]
    },
    {
     "ename": "TypeError",
     "evalue": "cannot unpack non-iterable NoneType object",
     "output_type": "error",
     "traceback": [
      "\u001b[1;31m---------------------------------------------------------------------------\u001b[0m",
      "\u001b[1;31mTypeError\u001b[0m                                 Traceback (most recent call last)",
      "\u001b[1;32m<ipython-input-263-549a7b328d3a>\u001b[0m in \u001b[0;36m<module>\u001b[1;34m\u001b[0m\n\u001b[0;32m      7\u001b[0m \u001b[0mimage_name\u001b[0m \u001b[1;33m=\u001b[0m \u001b[0minput\u001b[0m\u001b[1;33m(\u001b[0m\u001b[1;33m)\u001b[0m\u001b[1;33m\u001b[0m\u001b[1;33m\u001b[0m\u001b[0m\n\u001b[0;32m      8\u001b[0m \u001b[1;33m\u001b[0m\u001b[0m\n\u001b[1;32m----> 9\u001b[1;33m \u001b[0mhsv_min\u001b[0m\u001b[1;33m,\u001b[0m \u001b[0mhsv_max\u001b[0m \u001b[1;33m=\u001b[0m \u001b[0mchoose_color_hsv\u001b[0m\u001b[1;33m(\u001b[0m\u001b[0mcolor\u001b[0m\u001b[1;33m)\u001b[0m\u001b[1;33m\u001b[0m\u001b[1;33m\u001b[0m\u001b[0m\n\u001b[0m\u001b[0;32m     10\u001b[0m \u001b[1;33m\u001b[0m\u001b[0m\n\u001b[0;32m     11\u001b[0m \u001b[0mimg\u001b[0m \u001b[1;33m=\u001b[0m \u001b[0mcv2\u001b[0m\u001b[1;33m.\u001b[0m\u001b[0mimread\u001b[0m\u001b[1;33m(\u001b[0m\u001b[0mimage_name\u001b[0m\u001b[1;33m)\u001b[0m\u001b[1;33m\u001b[0m\u001b[1;33m\u001b[0m\u001b[0m\n",
      "\u001b[1;31mTypeError\u001b[0m: cannot unpack non-iterable NoneType object"
     ]
    }
   ],
   "source": [
    "print('enter color name:', end=' ')\n",
    "color = input()\n",
    "\n",
    "print()\n",
    "\n",
    "print('enter img name: ')\n",
    "image_name = input()\n",
    "\n",
    "hsv_min, hsv_max = choose_color_hsv(color)\n",
    "\n",
    "img = cv2.imread(image_name)\n",
    "\n",
    "# меняем цветовую модель с BGR на HSV\n",
    "hsv = cv2.cvtColor(img, cv2.COLOR_BGR2HSV )\n",
    "\n",
    "thresh = cv2.inRange(hsv, hsv_min, hsv_max )\n",
    "\n",
    "# ищем контуры и складируем их в переменную contours\n",
    "# hierarchy хранит информацию об иерархии\n",
    "contours, hierarchy = cv2.findContours(thresh.copy(), cv2.RETR_TREE, cv2.CHAIN_APPROX_SIMPLE)\n",
    "\n",
    "# отображаем контуры поверх изображения\n",
    "cv2.drawContours(img, contours, -1, (0, 0, 0), 2, cv2.LINE_AA, hierarchy, 0)\n",
    "cv2.imshow('contours', img)\n",
    "\n",
    "cv2.waitKey()"
   ]
  },
  {
   "cell_type": "code",
   "execution_count": null,
   "metadata": {},
   "outputs": [],
   "source": []
  }
 ],
 "metadata": {
  "kernelspec": {
   "display_name": "Python 3",
   "language": "python",
   "name": "python3"
  },
  "language_info": {
   "codemirror_mode": {
    "name": "ipython",
    "version": 3
   },
   "file_extension": ".py",
   "mimetype": "text/x-python",
   "name": "python",
   "nbconvert_exporter": "python",
   "pygments_lexer": "ipython3",
   "version": "3.8.3"
  }
 },
 "nbformat": 4,
 "nbformat_minor": 4
}
