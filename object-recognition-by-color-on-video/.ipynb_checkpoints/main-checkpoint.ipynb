{
 "cells": [
  {
   "cell_type": "code",
   "execution_count": null,
   "metadata": {},
   "outputs": [],
   "source": [
    "import cv2\n",
    "import numpy as np"
   ]
  },
  {
   "cell_type": "markdown",
   "metadata": {},
   "source": [
    "# Работа с BGR"
   ]
  },
  {
   "cell_type": "code",
   "execution_count": null,
   "metadata": {},
   "outputs": [],
   "source": [
    "# blue\n",
    "low_blue = (0, 0, 0)\n",
    "high_blue = (255, 130, 130)\n",
    "\n",
    "# green\n",
    "low_green = (0, 200, 0)\n",
    "high_green = (130, 255, 130)\n",
    "\n",
    "# red\n",
    "low_red = (0, 0, 0) \n",
    "high_red = (130, 130, 255)"
   ]
  },
  {
   "cell_type": "code",
   "execution_count": null,
   "metadata": {},
   "outputs": [],
   "source": [
    "cap = cv2.VideoCapture(0)\n",
    "\n",
    "bgr_min = low_green\n",
    "bgr_max = high_green\n",
    "\n",
    "while True:\n",
    "    flag, img = cap.read()\n",
    "    thresh = cv2.inRange(img, bgr_min, bgr_max)\n",
    "    contours, hierarchy = cv2.findContours(thresh.copy(), cv2.RETR_TREE, cv2.CHAIN_APPROX_SIMPLE)\n",
    "    \n",
    "    cv2.drawContours(img, contours, -1, (0, 0, 0), 2, cv2.LINE_AA, hierarchy, 2)\n",
    "\n",
    "    cv2.imshow('result', img)\n",
    "\n",
    "    cv2.waitKey(1)\n",
    "\n",
    "cap.release()\n",
    "cv2.destroyAllWindows()"
   ]
  },
  {
   "cell_type": "code",
   "execution_count": null,
   "metadata": {},
   "outputs": [],
   "source": []
  }
 ],
 "metadata": {
  "kernelspec": {
   "display_name": "Python 3",
   "language": "python",
   "name": "python3"
  },
  "language_info": {
   "codemirror_mode": {
    "name": "ipython",
    "version": 3
   },
   "file_extension": ".py",
   "mimetype": "text/x-python",
   "name": "python",
   "nbconvert_exporter": "python",
   "pygments_lexer": "ipython3",
   "version": "3.8.3"
  }
 },
 "nbformat": 4,
 "nbformat_minor": 4
}
