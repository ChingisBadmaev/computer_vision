{
 "cells": [
  {
   "cell_type": "code",
   "execution_count": 1,
   "metadata": {},
   "outputs": [],
   "source": [
    "import cv2\n",
    "import numpy as np"
   ]
  },
  {
   "cell_type": "markdown",
   "metadata": {},
   "source": [
    "# Работа с HSV"
   ]
  },
  {
   "cell_type": "code",
   "execution_count": 2,
   "metadata": {},
   "outputs": [],
   "source": [
    "def nothing(x):\n",
    "    pass"
   ]
  },
  {
   "cell_type": "code",
   "execution_count": 3,
   "metadata": {},
   "outputs": [],
   "source": [
    "cap = cv2.VideoCapture('dota_marci.mp4')\n",
    "\n",
    "# создаем главное окно\n",
    "cv2.namedWindow('contours')\n",
    "\n",
    "# создаем окно настроек\n",
    "cv2.namedWindow('settings')\n",
    "\n",
    "# создаем 6 бегунков для настройки начального и конечного цвета фильтра\n",
    "cv2.createTrackbar('Hue start', 'settings', 0, 180, nothing)\n",
    "cv2.createTrackbar('Hue end', 'settings', 0, 180, nothing)\n",
    "cv2.createTrackbar('Saturation start', 'settings', 0, 255, nothing)\n",
    "cv2.createTrackbar('Saturation end', 'settings', 0, 255, nothing)\n",
    "cv2.createTrackbar('Value start', 'settings', 0, 255, nothing)\n",
    "cv2.createTrackbar('Value end', 'settings', 0, 255, nothing)\n",
    "crange = [0, 0, 0, 0, 0, 0]\n",
    "\n",
    "\n",
    "while True:\n",
    "    flag, img = cap.read()\n",
    "        \n",
    "    # преобразуем RGB картинку в HSV модель\n",
    "    hsv = cv2.cvtColor(img, cv2.COLOR_BGR2HSV )\n",
    " \n",
    "    # считываем значения бегунков\n",
    "    hue_start = cv2.getTrackbarPos('Hue start', 'settings')\n",
    "    hue_end = cv2.getTrackbarPos('Hue end', 'settings')\n",
    "    saturation_start = cv2.getTrackbarPos('Saturation start', 'settings')\n",
    "    saturation_end = cv2.getTrackbarPos('Saturation end', 'settings')\n",
    "    value_start = cv2.getTrackbarPos('Value start', 'settings')\n",
    "    value_end = cv2.getTrackbarPos('Value end', 'settings')\n",
    "\n",
    "    # формируем начальный и конечный цвет фильтра\n",
    "    h_min = np.array((hue_start, saturation_start, value_start), np.uint8)\n",
    "    h_max = np.array((hue_end, saturation_end, value_end), np.uint8)\n",
    "\n",
    "    # накладываем фильтр на кадр в модели HSV\n",
    "    thresh = cv2.inRange(hsv, h_min, h_max)\n",
    "    \n",
    "    # ищем контуры и складируем их в переменную contours\n",
    "    # hierarchy хранит информацию об иерархии\n",
    "    contours, hierarchy = cv2.findContours(thresh.copy(), cv2.RETR_TREE, cv2.CHAIN_APPROX_SIMPLE)\n",
    "\n",
    "    # отображаем контуры поверх видео\n",
    "    cv2.drawContours(img, contours, -1, (0, 0, 0), 2, cv2.LINE_AA, hierarchy, 2)\n",
    "    cv2.imshow('contours', img) \n",
    "\n",
    "    if cv2.waitKey(1) & 0xFF == ord('b'):\n",
    "        break\n",
    "\n",
    "cap.release()\n",
    "cv2.destroyAllWindows()"
   ]
  },
  {
   "cell_type": "code",
   "execution_count": null,
   "metadata": {},
   "outputs": [],
   "source": []
  }
 ],
 "metadata": {
  "kernelspec": {
   "display_name": "Python 3",
   "language": "python",
   "name": "python3"
  },
  "language_info": {
   "codemirror_mode": {
    "name": "ipython",
    "version": 3
   },
   "file_extension": ".py",
   "mimetype": "text/x-python",
   "name": "python",
   "nbconvert_exporter": "python",
   "pygments_lexer": "ipython3",
   "version": "3.8.3"
  }
 },
 "nbformat": 4,
 "nbformat_minor": 4
}
